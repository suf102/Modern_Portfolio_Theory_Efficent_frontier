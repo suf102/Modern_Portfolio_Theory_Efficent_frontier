{
 "cells": [
  {
   "cell_type": "markdown",
   "metadata": {},
   "source": [
    "In this notebook I have with the help of the article on QuantPy's website I implement a program that will find hte the optimal portfolio for a given collection of stocks at a given risk level. In this notebook I will use the past performances of the stocks in the portfolio to compute the returns to risk, however in practice this approach isn't necessarily the most appropriate. Things may change and there and the relationships between different stocks may change. However prediction of sharpe ratios, volatility and returns is a separate task. \n",
    "\n",
    "https://quantpy.com.au/python-for-finance/portfolio-optimisation/"
   ]
  },
  {
   "cell_type": "code",
   "execution_count": 85,
   "metadata": {},
   "outputs": [],
   "source": [
    "# Some important packages that we will be using.\n",
    "\n",
    "import pandas_datareader as pdr\n",
    "import pandas as pd\n",
    "import numpy as np \n",
    "import yfinance as yf \n",
    "import matplotlib as plt\n",
    "import datetime as dt\n",
    "import plotly.graph_objects as go\n",
    "from datetime import date \n",
    "import scipy.optimize as sc\n",
    "from scipy.optimize import Bounds, LinearConstraint, minimize\n",
    "import bs4 as bs\n",
    "import requests"
   ]
  },
  {
   "cell_type": "code",
   "execution_count": 86,
   "metadata": {},
   "outputs": [],
   "source": [
    "# for fun you can take all of the snp 500 and and find optimal portfolios of them, warning this code takes a while to run if you want a quicker version use a shorter list of companies. \n",
    "\n",
    "resp = requests.get('http://en.wikipedia.org/wiki/List_of_S%26P_500_companies')\n",
    "soup = bs.BeautifulSoup(resp.text, 'lxml')\n",
    "table = soup.find('table', {'class': 'wikitable sortable'})\n",
    "\n",
    "tickers = []\n",
    "\n",
    "for row in table.findAll('tr')[1:]:\n",
    "    ticker = row.findAll('td')[0].text\n",
    "    tickers.append(ticker)\n",
    "\n",
    "# The free yfinance API is causing some issues with three tickers, so I have removed them.\n",
    "    \n",
    "tickers = [s.replace('\\n', '') for s in tickers]\n",
    "tickers.remove('BRK.B')\n",
    "tickers.remove('BF.B')\n",
    "tickers.remove('AME')"
   ]
  },
  {
   "cell_type": "code",
   "execution_count": 87,
   "metadata": {},
   "outputs": [],
   "source": [
    "# First we need a function that will retrieve the data from Yfinance, we will do this using the pandas data reader. \n",
    "# Update the pandas datareader package has stopped working with Yahoo finance, this new code goes directly via yahoo finance. \n",
    "\n",
    "def getdata(stocks, datatype, startdate, enddate):\n",
    "    yfdata = yfdata = yf.download(stocks, start = startdate, end= enddate)\n",
    "    closedata = yfdata[datatype].copy()\n",
    "    return closedata"
   ]
  },
  {
   "cell_type": "code",
   "execution_count": 88,
   "metadata": {},
   "outputs": [],
   "source": [
    "# Next we need to take that data and work out the covariance between the stocks and work out the mean returns.\n",
    "def meanrets(closedata):\n",
    "    returns = closedata.pct_change()\n",
    "    mean_returns = returns.mean()\n",
    "    return mean_returns\n",
    "\n",
    "def covar(closedata):\n",
    "    returns = closedata.pct_change()\n",
    "    covariance_matrix = returns.cov()\n",
    "    return covariance_matrix\n",
    "    "
   ]
  },
  {
   "cell_type": "code",
   "execution_count": 89,
   "metadata": {},
   "outputs": [],
   "source": [
    "# Then we need to evaluate the different portfolios we have. we will do this using the returns and portfolio standard deviation.\n",
    "\n",
    "def portfolio_returns (weights, mean_returns):\n",
    "    # This is a yearly return not just the daily returns with 252 trading days in a year\n",
    "    returns = np.sum(mean_returns*weights)*(years*252)\n",
    "    return returns\n",
    "\n",
    "def portfolio_standard (weights, covariance_matrix):\n",
    "    # the standard deivation using the weights taking the dot product with the weights\n",
    "    standard_deviaton = ((np.dot(weights.T,np.dot(covariance_matrix,weights)))**0.5)*((years*252)**0.5)\n",
    "    return standard_deviaton"
   ]
  },
  {
   "cell_type": "markdown",
   "metadata": {},
   "source": [
    "# The optimiser step\n",
    "\n",
    "We want to minimize the variance, for a given level of return, we do this by using an optimiser and imposing restrictions. \n",
    "In this case our constrains are that the sum of hte weights are going to be 1, because we can only sum a maximum of 100% of our portfolio.\n",
    "the second is that the returns need to be above a certain threshold, we will use different thresholds to see how low the variance can go at each.\n",
    "\n",
    "The first step is working out what we want to minimize, in general though we want to maximise, in this case we want to maximize the sharpe, which is the relationship between returns- risk free rate of returns/ standard deviation. Our function however minimizes so we will just minimize the negative of the sharpe ratio. "
   ]
  },
  {
   "cell_type": "code",
   "execution_count": 90,
   "metadata": {},
   "outputs": [],
   "source": [
    "# The negative sharpe ratio function, that takes the weights, mean returns, and covariance matrix to output the negative of the sharpe ratio.\n",
    "\n",
    "def negSharperatio(weights, mean_returns, covariance_matrix ,rrr):\n",
    "    port_rets = portfolio_returns(weights,meanreturns)\n",
    "    portfolio_stand = portfolio_standard(weights,covariance_matrix)\n",
    "    return - (port_rets - rrr)/(portfolio_stand)"
   ]
  },
  {
   "cell_type": "code",
   "execution_count": 91,
   "metadata": {},
   "outputs": [],
   "source": [
    "def maxsharpe(mean_returns, covariance_matrix, rrr, bound = (0,1)):\n",
    "    # This will minimise the negative sharpe ratio to maximise the regular sharpe ratio.\n",
    "    numberofassetts = len(mean_returns)\n",
    "    args = (mean_returns,covariance_matrix, rrr)\n",
    "    constraints = ({'type':'eq','fun': lambda x: np.sum(x)-1})\n",
    "    bounds = tuple(bound for asset in range(numberofassetts))\n",
    "    result = sc.minimize(negSharperatio, [1./numberofassetts]*numberofassetts,args=args, method= 'SLSQP', bounds=bounds, constraints=constraints )\n",
    "    return result\n",
    "    "
   ]
  },
  {
   "cell_type": "code",
   "execution_count": 92,
   "metadata": {},
   "outputs": [],
   "source": [
    "# This function will work out the minimum variance that a portfolio can achieve. \n",
    "def minimizevariance(mean_returns, covariance_matrix, bound = (0,1)):\n",
    "    numberofassetts = len(mean_returns)\n",
    "    args = (covariance_matrix)\n",
    "    constraints = ({'type':'eq','fun': lambda x: np.sum(x)-1})\n",
    "    bounds = tuple(bound for asset in range(numberofassetts))\n",
    "    result = sc.minimize(portfolio_standard,[1./numberofassetts]*numberofassetts,args=args ,method= 'SLSQP', bounds=bounds, constraints=constraints)\n",
    "    return result"
   ]
  },
  {
   "cell_type": "code",
   "execution_count": 93,
   "metadata": {},
   "outputs": [],
   "source": [
    "# Now we need a function that will find the minimum variance for any target returns. \n",
    "def efficentportfolio(mean_returns, covariance_matrix, target_returns, bound = (0,1)):\n",
    "    numberofassetts = len(mean_returns)\n",
    "    args = (covariance_matrix)\n",
    "    constraints = ({'type':'eq','fun': lambda x: np.sum(x)-1},{'type':'eq', 'fun':lambda x: portfolio_returns(x,mean_returns)-target_returns})\n",
    "    bounds = tuple(bound for asset in range(numberofassetts))\n",
    "    efficentportfolio = sc.minimize( portfolio_standard , [1./numberofassetts]*numberofassetts ,args=args ,method= 'SLSQP', bounds=bounds, constraints=constraints)\n",
    "    return efficentportfolio"
   ]
  },
  {
   "cell_type": "code",
   "execution_count": 94,
   "metadata": {},
   "outputs": [],
   "source": [
    "# Lastly a function to call all of the above results, we will take the lowest volatility and the maximum sharpe ratio to use as the bounds for hte experiment.\n",
    "# then calculate the \n",
    "\n",
    "def calculated_results(mean_returns, covariance_matrix, rrr, bound = (0,1)):\n",
    "    # The maximum sharpe ratio allocaiton\n",
    "    maxsr_portfolio = maxsharpe(mean_returns, covariance_matrix, rrr, bound = (0,1))\n",
    "    maxsr_returns = portfolio_returns( maxsr_portfolio['x'],mean_returns)\n",
    "    maxsr_std = portfolio_standard(maxsr_portfolio['x'],covariance_matrix)\n",
    "    maxsr_allocation = pd.DataFrame(maxsr_portfolio['x'], index= mean_returns.index,columns=['allocation'])\n",
    "    \n",
    "    # The minimized volatility allocation\n",
    "    minvol_portfolio = minimizevariance(mean_returns,covariance_matrix, bound = (0,1))\n",
    "    minvol_returns = portfolio_returns( minvol_portfolio['x'],mean_returns)\n",
    "    minvol_std = portfolio_standard( minvol_portfolio['x'],covariance_matrix)\n",
    "    minvol_allocation = pd.DataFrame(minvol_portfolio['x'], index= mean_returns.index,columns=['allocation'])\n",
    "    \n",
    "    # Efficient frontier.\n",
    "    efficentportfolios = []\n",
    "    targetreturns = np.linspace(minvol_returns,maxsr_returns,20)\n",
    "    for target in targetreturns:\n",
    "        efficentportfolios.append(efficentportfolio(mean_returns,covariance_matrix,target,bound=(0,1))['fun'])\n",
    "        \n",
    "    return maxsr_returns, maxsr_std, maxsr_allocation, minvol_returns, minvol_std,minvol_allocation, efficentportfolios, targetreturns\n",
    "    \n",
    "    "
   ]
  },
  {
   "cell_type": "code",
   "execution_count": 95,
   "metadata": {},
   "outputs": [],
   "source": [
    "\n",
    "\n",
    "def EF_graph(maxSR_returns, maxSR_std, maxSR_allocation, minVol_returns, minVol_std, minVol_allocation, efficientList, targetReturns):\n",
    "    # Plotting the maximum sharpe ratio portfolio.\n",
    "    MaxSharpeRatio = go.Scatter(\n",
    "        name='Maximium Sharpe Ratio',\n",
    "        mode='markers',\n",
    "        x=[round(maxSR_std*100,2)],\n",
    "        y=[round(maxSR_returns*100,2)],\n",
    "        marker=dict(color='red',size=14,line=dict(width=3, color='black'))\n",
    "    )\n",
    "    # Plotting the minimum volatility portfolio.\n",
    "    MinVol = go.Scatter(\n",
    "        name='Mininium Volatility',\n",
    "        mode='markers',\n",
    "        x=[round(minVol_std*100,2)],\n",
    "        y=[round(minVol_returns*100,2)],\n",
    "        marker=dict(color='green',size=14,line=dict(width=3, color='black'))\n",
    "    )\n",
    "    \n",
    "    # The frontier made up of the lowest volatility possible at each level of returns between the returns of the lowest volatility porfolio and the maximum sharpe ratio portfolio.\\\n",
    "        \n",
    "    #Efficient Frontier\n",
    "    EF_curve = go.Scatter(\n",
    "        name='Efficient Frontier',\n",
    "        mode='lines',\n",
    "        x=[round(ef_std*100, 2) for ef_std in efficientList],\n",
    "        y=[round(target*100, 2) for target in targetReturns],\n",
    "        line=dict(color='black', width=4, dash='dashdot')\n",
    "    )\n",
    "    data = [MaxSharpeRatio, MinVol, EF_curve]\n",
    "    layout = go.Layout(\n",
    "        title = 'Portfolio Optimisation with the Efficient Frontier',\n",
    "        yaxis = dict(title='Annualised Return (%)'),\n",
    "        xaxis = dict(title='Annualised Volatility (%)'),\n",
    "        showlegend = True,\n",
    "        legend = dict(\n",
    "            x = 0.75, y = 0, traceorder='normal',\n",
    "            bgcolor='#E2E2E2',\n",
    "            bordercolor='black',\n",
    "            borderwidth=2),\n",
    "        width=1000,\n",
    "        height=1000)\n",
    "    \n",
    "    fig = go.Figure(data=data, layout=layout)\n",
    "    return fig.show()"
   ]
  },
  {
   "cell_type": "code",
   "execution_count": 96,
   "metadata": {},
   "outputs": [
    {
     "name": "stdout",
     "output_type": "stream",
     "text": [
      "[*********************100%***********************]  500 of 500 completed\n"
     ]
    },
    {
     "data": {
      "application/vnd.plotly.v1+json": {
       "config": {
        "plotlyServerURL": "https://plot.ly"
       },
       "data": [
        {
         "marker": {
          "color": "red",
          "line": {
           "color": "black",
           "width": 3
          },
          "size": 14
         },
         "mode": "markers",
         "name": "Maximium Sharpe Ratio",
         "type": "scatter",
         "x": [
          18.14
         ],
         "y": [
          50.83
         ]
        },
        {
         "marker": {
          "color": "green",
          "line": {
           "color": "black",
           "width": 3
          },
          "size": 14
         },
         "mode": "markers",
         "name": "Mininium Volatility",
         "type": "scatter",
         "x": [
          12.29
         ],
         "y": [
          7.64
         ]
        },
        {
         "line": {
          "color": "black",
          "dash": "dashdot",
          "width": 4
         },
         "mode": "lines",
         "name": "Efficient Frontier",
         "type": "scatter",
         "x": [
          12.29,
          12.3,
          12.33,
          12.39,
          12.48,
          12.6,
          12.75,
          12.93,
          13.14,
          13.37,
          13.62,
          13.89,
          14.19,
          14.53,
          14.93,
          15.4,
          15.96,
          16.6,
          17.33,
          18.14
         ],
         "y": [
          7.64,
          9.91,
          12.18,
          14.46,
          16.73,
          19,
          21.28,
          23.55,
          25.82,
          28.1,
          30.37,
          32.64,
          34.92,
          37.19,
          39.46,
          41.74,
          44.01,
          46.28,
          48.56,
          50.83
         ]
        }
       ],
       "layout": {
        "height": 1000,
        "legend": {
         "bgcolor": "#E2E2E2",
         "bordercolor": "black",
         "borderwidth": 2,
         "traceorder": "normal",
         "x": 0.75,
         "y": 0
        },
        "showlegend": true,
        "template": {
         "data": {
          "bar": [
           {
            "error_x": {
             "color": "#2a3f5f"
            },
            "error_y": {
             "color": "#2a3f5f"
            },
            "marker": {
             "line": {
              "color": "#E5ECF6",
              "width": 0.5
             },
             "pattern": {
              "fillmode": "overlay",
              "size": 10,
              "solidity": 0.2
             }
            },
            "type": "bar"
           }
          ],
          "barpolar": [
           {
            "marker": {
             "line": {
              "color": "#E5ECF6",
              "width": 0.5
             },
             "pattern": {
              "fillmode": "overlay",
              "size": 10,
              "solidity": 0.2
             }
            },
            "type": "barpolar"
           }
          ],
          "carpet": [
           {
            "aaxis": {
             "endlinecolor": "#2a3f5f",
             "gridcolor": "white",
             "linecolor": "white",
             "minorgridcolor": "white",
             "startlinecolor": "#2a3f5f"
            },
            "baxis": {
             "endlinecolor": "#2a3f5f",
             "gridcolor": "white",
             "linecolor": "white",
             "minorgridcolor": "white",
             "startlinecolor": "#2a3f5f"
            },
            "type": "carpet"
           }
          ],
          "choropleth": [
           {
            "colorbar": {
             "outlinewidth": 0,
             "ticks": ""
            },
            "type": "choropleth"
           }
          ],
          "contour": [
           {
            "colorbar": {
             "outlinewidth": 0,
             "ticks": ""
            },
            "colorscale": [
             [
              0,
              "#0d0887"
             ],
             [
              0.1111111111111111,
              "#46039f"
             ],
             [
              0.2222222222222222,
              "#7201a8"
             ],
             [
              0.3333333333333333,
              "#9c179e"
             ],
             [
              0.4444444444444444,
              "#bd3786"
             ],
             [
              0.5555555555555556,
              "#d8576b"
             ],
             [
              0.6666666666666666,
              "#ed7953"
             ],
             [
              0.7777777777777778,
              "#fb9f3a"
             ],
             [
              0.8888888888888888,
              "#fdca26"
             ],
             [
              1,
              "#f0f921"
             ]
            ],
            "type": "contour"
           }
          ],
          "contourcarpet": [
           {
            "colorbar": {
             "outlinewidth": 0,
             "ticks": ""
            },
            "type": "contourcarpet"
           }
          ],
          "heatmap": [
           {
            "colorbar": {
             "outlinewidth": 0,
             "ticks": ""
            },
            "colorscale": [
             [
              0,
              "#0d0887"
             ],
             [
              0.1111111111111111,
              "#46039f"
             ],
             [
              0.2222222222222222,
              "#7201a8"
             ],
             [
              0.3333333333333333,
              "#9c179e"
             ],
             [
              0.4444444444444444,
              "#bd3786"
             ],
             [
              0.5555555555555556,
              "#d8576b"
             ],
             [
              0.6666666666666666,
              "#ed7953"
             ],
             [
              0.7777777777777778,
              "#fb9f3a"
             ],
             [
              0.8888888888888888,
              "#fdca26"
             ],
             [
              1,
              "#f0f921"
             ]
            ],
            "type": "heatmap"
           }
          ],
          "heatmapgl": [
           {
            "colorbar": {
             "outlinewidth": 0,
             "ticks": ""
            },
            "colorscale": [
             [
              0,
              "#0d0887"
             ],
             [
              0.1111111111111111,
              "#46039f"
             ],
             [
              0.2222222222222222,
              "#7201a8"
             ],
             [
              0.3333333333333333,
              "#9c179e"
             ],
             [
              0.4444444444444444,
              "#bd3786"
             ],
             [
              0.5555555555555556,
              "#d8576b"
             ],
             [
              0.6666666666666666,
              "#ed7953"
             ],
             [
              0.7777777777777778,
              "#fb9f3a"
             ],
             [
              0.8888888888888888,
              "#fdca26"
             ],
             [
              1,
              "#f0f921"
             ]
            ],
            "type": "heatmapgl"
           }
          ],
          "histogram": [
           {
            "marker": {
             "pattern": {
              "fillmode": "overlay",
              "size": 10,
              "solidity": 0.2
             }
            },
            "type": "histogram"
           }
          ],
          "histogram2d": [
           {
            "colorbar": {
             "outlinewidth": 0,
             "ticks": ""
            },
            "colorscale": [
             [
              0,
              "#0d0887"
             ],
             [
              0.1111111111111111,
              "#46039f"
             ],
             [
              0.2222222222222222,
              "#7201a8"
             ],
             [
              0.3333333333333333,
              "#9c179e"
             ],
             [
              0.4444444444444444,
              "#bd3786"
             ],
             [
              0.5555555555555556,
              "#d8576b"
             ],
             [
              0.6666666666666666,
              "#ed7953"
             ],
             [
              0.7777777777777778,
              "#fb9f3a"
             ],
             [
              0.8888888888888888,
              "#fdca26"
             ],
             [
              1,
              "#f0f921"
             ]
            ],
            "type": "histogram2d"
           }
          ],
          "histogram2dcontour": [
           {
            "colorbar": {
             "outlinewidth": 0,
             "ticks": ""
            },
            "colorscale": [
             [
              0,
              "#0d0887"
             ],
             [
              0.1111111111111111,
              "#46039f"
             ],
             [
              0.2222222222222222,
              "#7201a8"
             ],
             [
              0.3333333333333333,
              "#9c179e"
             ],
             [
              0.4444444444444444,
              "#bd3786"
             ],
             [
              0.5555555555555556,
              "#d8576b"
             ],
             [
              0.6666666666666666,
              "#ed7953"
             ],
             [
              0.7777777777777778,
              "#fb9f3a"
             ],
             [
              0.8888888888888888,
              "#fdca26"
             ],
             [
              1,
              "#f0f921"
             ]
            ],
            "type": "histogram2dcontour"
           }
          ],
          "mesh3d": [
           {
            "colorbar": {
             "outlinewidth": 0,
             "ticks": ""
            },
            "type": "mesh3d"
           }
          ],
          "parcoords": [
           {
            "line": {
             "colorbar": {
              "outlinewidth": 0,
              "ticks": ""
             }
            },
            "type": "parcoords"
           }
          ],
          "pie": [
           {
            "automargin": true,
            "type": "pie"
           }
          ],
          "scatter": [
           {
            "fillpattern": {
             "fillmode": "overlay",
             "size": 10,
             "solidity": 0.2
            },
            "type": "scatter"
           }
          ],
          "scatter3d": [
           {
            "line": {
             "colorbar": {
              "outlinewidth": 0,
              "ticks": ""
             }
            },
            "marker": {
             "colorbar": {
              "outlinewidth": 0,
              "ticks": ""
             }
            },
            "type": "scatter3d"
           }
          ],
          "scattercarpet": [
           {
            "marker": {
             "colorbar": {
              "outlinewidth": 0,
              "ticks": ""
             }
            },
            "type": "scattercarpet"
           }
          ],
          "scattergeo": [
           {
            "marker": {
             "colorbar": {
              "outlinewidth": 0,
              "ticks": ""
             }
            },
            "type": "scattergeo"
           }
          ],
          "scattergl": [
           {
            "marker": {
             "colorbar": {
              "outlinewidth": 0,
              "ticks": ""
             }
            },
            "type": "scattergl"
           }
          ],
          "scattermapbox": [
           {
            "marker": {
             "colorbar": {
              "outlinewidth": 0,
              "ticks": ""
             }
            },
            "type": "scattermapbox"
           }
          ],
          "scatterpolar": [
           {
            "marker": {
             "colorbar": {
              "outlinewidth": 0,
              "ticks": ""
             }
            },
            "type": "scatterpolar"
           }
          ],
          "scatterpolargl": [
           {
            "marker": {
             "colorbar": {
              "outlinewidth": 0,
              "ticks": ""
             }
            },
            "type": "scatterpolargl"
           }
          ],
          "scatterternary": [
           {
            "marker": {
             "colorbar": {
              "outlinewidth": 0,
              "ticks": ""
             }
            },
            "type": "scatterternary"
           }
          ],
          "surface": [
           {
            "colorbar": {
             "outlinewidth": 0,
             "ticks": ""
            },
            "colorscale": [
             [
              0,
              "#0d0887"
             ],
             [
              0.1111111111111111,
              "#46039f"
             ],
             [
              0.2222222222222222,
              "#7201a8"
             ],
             [
              0.3333333333333333,
              "#9c179e"
             ],
             [
              0.4444444444444444,
              "#bd3786"
             ],
             [
              0.5555555555555556,
              "#d8576b"
             ],
             [
              0.6666666666666666,
              "#ed7953"
             ],
             [
              0.7777777777777778,
              "#fb9f3a"
             ],
             [
              0.8888888888888888,
              "#fdca26"
             ],
             [
              1,
              "#f0f921"
             ]
            ],
            "type": "surface"
           }
          ],
          "table": [
           {
            "cells": {
             "fill": {
              "color": "#EBF0F8"
             },
             "line": {
              "color": "white"
             }
            },
            "header": {
             "fill": {
              "color": "#C8D4E3"
             },
             "line": {
              "color": "white"
             }
            },
            "type": "table"
           }
          ]
         },
         "layout": {
          "annotationdefaults": {
           "arrowcolor": "#2a3f5f",
           "arrowhead": 0,
           "arrowwidth": 1
          },
          "autotypenumbers": "strict",
          "coloraxis": {
           "colorbar": {
            "outlinewidth": 0,
            "ticks": ""
           }
          },
          "colorscale": {
           "diverging": [
            [
             0,
             "#8e0152"
            ],
            [
             0.1,
             "#c51b7d"
            ],
            [
             0.2,
             "#de77ae"
            ],
            [
             0.3,
             "#f1b6da"
            ],
            [
             0.4,
             "#fde0ef"
            ],
            [
             0.5,
             "#f7f7f7"
            ],
            [
             0.6,
             "#e6f5d0"
            ],
            [
             0.7,
             "#b8e186"
            ],
            [
             0.8,
             "#7fbc41"
            ],
            [
             0.9,
             "#4d9221"
            ],
            [
             1,
             "#276419"
            ]
           ],
           "sequential": [
            [
             0,
             "#0d0887"
            ],
            [
             0.1111111111111111,
             "#46039f"
            ],
            [
             0.2222222222222222,
             "#7201a8"
            ],
            [
             0.3333333333333333,
             "#9c179e"
            ],
            [
             0.4444444444444444,
             "#bd3786"
            ],
            [
             0.5555555555555556,
             "#d8576b"
            ],
            [
             0.6666666666666666,
             "#ed7953"
            ],
            [
             0.7777777777777778,
             "#fb9f3a"
            ],
            [
             0.8888888888888888,
             "#fdca26"
            ],
            [
             1,
             "#f0f921"
            ]
           ],
           "sequentialminus": [
            [
             0,
             "#0d0887"
            ],
            [
             0.1111111111111111,
             "#46039f"
            ],
            [
             0.2222222222222222,
             "#7201a8"
            ],
            [
             0.3333333333333333,
             "#9c179e"
            ],
            [
             0.4444444444444444,
             "#bd3786"
            ],
            [
             0.5555555555555556,
             "#d8576b"
            ],
            [
             0.6666666666666666,
             "#ed7953"
            ],
            [
             0.7777777777777778,
             "#fb9f3a"
            ],
            [
             0.8888888888888888,
             "#fdca26"
            ],
            [
             1,
             "#f0f921"
            ]
           ]
          },
          "colorway": [
           "#636efa",
           "#EF553B",
           "#00cc96",
           "#ab63fa",
           "#FFA15A",
           "#19d3f3",
           "#FF6692",
           "#B6E880",
           "#FF97FF",
           "#FECB52"
          ],
          "font": {
           "color": "#2a3f5f"
          },
          "geo": {
           "bgcolor": "white",
           "lakecolor": "white",
           "landcolor": "#E5ECF6",
           "showlakes": true,
           "showland": true,
           "subunitcolor": "white"
          },
          "hoverlabel": {
           "align": "left"
          },
          "hovermode": "closest",
          "mapbox": {
           "style": "light"
          },
          "paper_bgcolor": "white",
          "plot_bgcolor": "#E5ECF6",
          "polar": {
           "angularaxis": {
            "gridcolor": "white",
            "linecolor": "white",
            "ticks": ""
           },
           "bgcolor": "#E5ECF6",
           "radialaxis": {
            "gridcolor": "white",
            "linecolor": "white",
            "ticks": ""
           }
          },
          "scene": {
           "xaxis": {
            "backgroundcolor": "#E5ECF6",
            "gridcolor": "white",
            "gridwidth": 2,
            "linecolor": "white",
            "showbackground": true,
            "ticks": "",
            "zerolinecolor": "white"
           },
           "yaxis": {
            "backgroundcolor": "#E5ECF6",
            "gridcolor": "white",
            "gridwidth": 2,
            "linecolor": "white",
            "showbackground": true,
            "ticks": "",
            "zerolinecolor": "white"
           },
           "zaxis": {
            "backgroundcolor": "#E5ECF6",
            "gridcolor": "white",
            "gridwidth": 2,
            "linecolor": "white",
            "showbackground": true,
            "ticks": "",
            "zerolinecolor": "white"
           }
          },
          "shapedefaults": {
           "line": {
            "color": "#2a3f5f"
           }
          },
          "ternary": {
           "aaxis": {
            "gridcolor": "white",
            "linecolor": "white",
            "ticks": ""
           },
           "baxis": {
            "gridcolor": "white",
            "linecolor": "white",
            "ticks": ""
           },
           "bgcolor": "#E5ECF6",
           "caxis": {
            "gridcolor": "white",
            "linecolor": "white",
            "ticks": ""
           }
          },
          "title": {
           "x": 0.05
          },
          "xaxis": {
           "automargin": true,
           "gridcolor": "white",
           "linecolor": "white",
           "ticks": "",
           "title": {
            "standoff": 15
           },
           "zerolinecolor": "white",
           "zerolinewidth": 2
          },
          "yaxis": {
           "automargin": true,
           "gridcolor": "white",
           "linecolor": "white",
           "ticks": "",
           "title": {
            "standoff": 15
           },
           "zerolinecolor": "white",
           "zerolinewidth": 2
          }
         }
        },
        "title": {
         "text": "Portfolio Optimisation with the Efficient Frontier"
        },
        "width": 1000,
        "xaxis": {
         "title": {
          "text": "Annualised Volatility (%)"
         }
        },
        "yaxis": {
         "title": {
          "text": "Annualised Return (%)"
         }
        }
       }
      }
     },
     "metadata": {},
     "output_type": "display_data"
    }
   ],
   "source": [
    "# the number of years worth of data to calculate over\n",
    "years = 1\n",
    "# the end date of the trial, by default set to todays date\n",
    "enddate = dt.datetime.now() \n",
    "# the start date of the trial \n",
    "startdate = enddate - dt.timedelta(days = 365*years)\n",
    "# The stocks to be included in the portfolio, leave as tickers for the whole snp500, or add your own list. \n",
    "# The code is set up for a 252 trading days year, it will need to be changed if other assets are included. \n",
    "stocks = tickers\n",
    "# Using the adjusted close to take dividence and splits into account.\n",
    "datatype = 'Adj Close'\n",
    "\n",
    "data = getdata(stocks,datatype,startdate, enddate)\n",
    "\n",
    "meanreturns = meanrets(data)\n",
    "covariance = covar(data)\n",
    "\n",
    "maxsr_returns, maxsr_std, maxsr_allocation, minvol_returns, minvol_std,minvol_allocation, efficentportfolios, targetreturns = calculated_results(meanreturns, covariance, rrr=0.03, bound = (0,1))\n",
    "\n",
    "EF_graph(maxsr_returns, maxsr_std, maxsr_allocation, minvol_returns, minvol_std,minvol_allocation, efficentportfolios, targetreturns)\n"
   ]
  }
 ],
 "metadata": {
  "kernelspec": {
   "display_name": "Python 3.9.12 ('base')",
   "language": "python",
   "name": "python3"
  },
  "language_info": {
   "codemirror_mode": {
    "name": "ipython",
    "version": 3
   },
   "file_extension": ".py",
   "mimetype": "text/x-python",
   "name": "python",
   "nbconvert_exporter": "python",
   "pygments_lexer": "ipython3",
   "version": "3.9.15"
  },
  "orig_nbformat": 4,
  "vscode": {
   "interpreter": {
    "hash": "40d3a090f54c6569ab1632332b64b2c03c39dcf918b08424e98f38b5ae0af88f"
   }
  }
 },
 "nbformat": 4,
 "nbformat_minor": 2
}
