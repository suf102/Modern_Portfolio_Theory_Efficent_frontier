{
 "cells": [
  {
   "cell_type": "markdown",
   "metadata": {},
   "source": [
    "In this notebook I have with the help of the article on QuantPy's website I implement a program that will find hte the optimal portfolio for a given collection of stocks at a given risk level. In this notebook I will use the past performances of the stocks in the portfolio to compute the returns to risk, however in practice this approach isn't necessarily the most appropriate. Things may change and there and the relationships between different stocks may change. However prediction of sharpe ratios, volatility and returns is a separate task. \n",
    "\n",
    "https://quantpy.com.au/python-for-finance/portfolio-optimisation/"
   ]
  },
  {
   "cell_type": "code",
   "execution_count": 4,
   "metadata": {},
   "outputs": [],
   "source": [
    "# Some important packages that we will be using.\n",
    "\n",
    "import pandas_datareader as pdr\n",
    "import pandas as pd\n",
    "import numpy as np \n",
    "import yfinance as yf \n",
    "import matplotlib as plt\n",
    "import datetime as dt\n",
    "import plotly.graph_objects as go\n",
    "from datetime import date \n",
    "import scipy.optimize as sc\n",
    "from scipy.optimize import Bounds, LinearConstraint, minimize\n",
    "import bs4 as bs\n",
    "import requests"
   ]
  },
  {
   "cell_type": "code",
   "execution_count": 5,
   "metadata": {},
   "outputs": [],
   "source": [
    "# for fun you can take all of the snp 500 and and find optimal portfolios of them, warning this code takes a while to run if you want a quicker version use a shorter list of companies. \n",
    "\n",
    "resp = requests.get('http://en.wikipedia.org/wiki/List_of_S%26P_500_companies')\n",
    "soup = bs.BeautifulSoup(resp.text, 'lxml')\n",
    "table = soup.find('table', {'class': 'wikitable sortable'})\n",
    "\n",
    "tickers = []\n",
    "\n",
    "for row in table.findAll('tr')[1:]:\n",
    "    ticker = row.findAll('td')[0].text\n",
    "    tickers.append(ticker)\n",
    "\n",
    "# The free yfinance API is causing some issues with three tickers, so I have removed them.\n",
    "    \n",
    "tickers = [s.replace('\\n', '') for s in tickers]\n",
    "tickers.remove('BRK.B')\n",
    "tickers.remove('BF.B')\n",
    "tickers.remove('AME')"
   ]
  },
  {
   "cell_type": "code",
   "execution_count": 6,
   "metadata": {},
   "outputs": [],
   "source": [
    "# First we need a function that will retrieve the data from Yfinance, we will do this using the pandas data reader. \n",
    "\n",
    "def getdata(stocks, datatype, startdate, enddate):\n",
    "    yfdata = pdr.get_data_yahoo(stocks,startdate,enddate)\n",
    "    closedata = yfdata[datatype]\n",
    "    return closedata"
   ]
  },
  {
   "cell_type": "code",
   "execution_count": 7,
   "metadata": {},
   "outputs": [],
   "source": [
    "# Next we need to take that data and work out the covariance between the stocks and work out the mean returns.\n",
    "def meanrets(closedata):\n",
    "    returns = closedata.pct_change()\n",
    "    mean_returns = returns.mean()\n",
    "    return mean_returns\n",
    "\n",
    "def covar(closedata):\n",
    "    returns = closedata.pct_change()\n",
    "    covariance_matrix = returns.cov()\n",
    "    return covariance_matrix\n",
    "    "
   ]
  },
  {
   "cell_type": "code",
   "execution_count": 8,
   "metadata": {},
   "outputs": [],
   "source": [
    "# Then we need to evaluate the different portfolios we have. we will do this using the returns and portfolio standard deviation.\n",
    "\n",
    "def portfolio_returns (weights, mean_returns):\n",
    "    # This is a yearly return not just the daily returns with 252 trading days in a year\n",
    "    returns = np.sum(mean_returns*weights)*(years*252)\n",
    "    return returns\n",
    "\n",
    "def portfolio_standard (weights, covariance_matrix):\n",
    "    # the standard deivation using the weights taking the dot product with the weights\n",
    "    standard_deviaton = ((np.dot(weights.T,np.dot(covariance_matrix,weights)))**0.5)*((years*252)**0.5)\n",
    "    return standard_deviaton"
   ]
  },
  {
   "cell_type": "markdown",
   "metadata": {},
   "source": [
    "# The optimiser step\n",
    "\n",
    "We want to minimize the variance, for a given level of return, we do this by using an optimiser and imposing restrictions. \n",
    "In this case our constrains are that the sum of hte weights are going to be 1, because we can only sum a maximum of 100% of our portfolio.\n",
    "the second is that the returns need to be above a certain threshold, we will use different thresholds to see how low the variance can go at each.\n",
    "\n",
    "The first step is working out what we want to minimize, in general though we want to maximise, in this case we want to maximize the sharpe, which is the relationship between returns- risk free rate of returns/ standard deviation. Our function however minimizes so we will just minimize the negative of the sharpe ratio. "
   ]
  },
  {
   "cell_type": "code",
   "execution_count": 9,
   "metadata": {},
   "outputs": [],
   "source": [
    "# The negative sharpe ratio function, that takes the weights, mean returns, and covariance matrix to output the negative of the sharpe ratio.\n",
    "\n",
    "def negSharperatio(weights, mean_returns, covariance_matrix ,rrr):\n",
    "    port_rets = portfolio_returns(weights,meanreturns)\n",
    "    portfolio_stand = portfolio_standard(weights,covariance_matrix)\n",
    "    return - (port_rets - rrr)/(portfolio_stand)"
   ]
  },
  {
   "cell_type": "code",
   "execution_count": 10,
   "metadata": {},
   "outputs": [],
   "source": [
    "def maxsharpe(mean_returns, covariance_matrix, rrr, bound = (0,1)):\n",
    "    # This will minimise the negative sharpe ratio to maximise the regular sharpe ratio.\n",
    "    numberofassetts = len(mean_returns)\n",
    "    args = (mean_returns,covariance_matrix, rrr)\n",
    "    constraints = ({'type':'eq','fun': lambda x: np.sum(x)-1})\n",
    "    bounds = tuple(bound for asset in range(numberofassetts))\n",
    "    result = sc.minimize(negSharperatio, [1./numberofassetts]*numberofassetts,args=args, method= 'SLSQP', bounds=bounds, constraints=constraints )\n",
    "    return result\n",
    "    "
   ]
  },
  {
   "cell_type": "code",
   "execution_count": 11,
   "metadata": {},
   "outputs": [],
   "source": [
    "# This function will work out the minimum variance that a portfolio can achieve. \n",
    "def minimizevariance(mean_returns, covariance_matrix, bound = (0,1)):\n",
    "    numberofassetts = len(mean_returns)\n",
    "    args = (covariance_matrix)\n",
    "    constraints = ({'type':'eq','fun': lambda x: np.sum(x)-1})\n",
    "    bounds = tuple(bound for asset in range(numberofassetts))\n",
    "    result = sc.minimize(portfolio_standard,[1./numberofassetts]*numberofassetts,args=args ,method= 'SLSQP', bounds=bounds, constraints=constraints)\n",
    "    return result"
   ]
  },
  {
   "cell_type": "code",
   "execution_count": 12,
   "metadata": {},
   "outputs": [],
   "source": [
    "# Now we need a function that will find the minimum variance for any target returns. \n",
    "def efficentportfolio(mean_returns, covariance_matrix, target_returns, bound = (0,1)):\n",
    "    numberofassetts = len(mean_returns)\n",
    "    args = (covariance_matrix)\n",
    "    constraints = ({'type':'eq','fun': lambda x: np.sum(x)-1},{'type':'eq', 'fun':lambda x: portfolio_returns(x,mean_returns)-target_returns})\n",
    "    bounds = tuple(bound for asset in range(numberofassetts))\n",
    "    efficentportfolio = sc.minimize( portfolio_standard , [1./numberofassetts]*numberofassetts ,args=args ,method= 'SLSQP', bounds=bounds, constraints=constraints)\n",
    "    return efficentportfolio"
   ]
  },
  {
   "cell_type": "code",
   "execution_count": 13,
   "metadata": {},
   "outputs": [],
   "source": [
    "# Lastly a function to call all of the above results, we will take the lowest volatility and the maximum sharpe ratio to use as the bounds for hte experiment.\n",
    "# then calculate the \n",
    "\n",
    "def calculated_results(mean_returns, covariance_matrix, rrr, bound = (0,1)):\n",
    "    # The maximum sharpe ratio allocaiton\n",
    "    maxsr_portfolio = maxsharpe(mean_returns, covariance_matrix, rrr, bound = (0,1))\n",
    "    maxsr_returns = portfolio_returns( maxsr_portfolio['x'],mean_returns)\n",
    "    maxsr_std = portfolio_standard(maxsr_portfolio['x'],covariance_matrix)\n",
    "    maxsr_allocation = pd.DataFrame(maxsr_portfolio['x'], index= mean_returns.index,columns=['allocation'])\n",
    "    \n",
    "    # The minimized volatility allocation\n",
    "    minvol_portfolio = minimizevariance(mean_returns,covariance_matrix, bound = (0,1))\n",
    "    minvol_returns = portfolio_returns( minvol_portfolio['x'],mean_returns)\n",
    "    minvol_std = portfolio_standard( minvol_portfolio['x'],covariance_matrix)\n",
    "    minvol_allocation = pd.DataFrame(minvol_portfolio['x'], index= mean_returns.index,columns=['allocation'])\n",
    "    \n",
    "    # Efficient frontier.\n",
    "    efficentportfolios = []\n",
    "    targetreturns = np.linspace(minvol_returns,maxsr_returns,20)\n",
    "    for target in targetreturns:\n",
    "        efficentportfolios.append(efficentportfolio(mean_returns,covariance_matrix,target,bound=(0,1))['fun'])\n",
    "        \n",
    "    return maxsr_returns, maxsr_std, maxsr_allocation, minvol_returns, minvol_std,minvol_allocation, efficentportfolios, targetreturns\n",
    "    \n",
    "    "
   ]
  },
  {
   "cell_type": "code",
   "execution_count": 14,
   "metadata": {},
   "outputs": [],
   "source": [
    "\n",
    "\n",
    "def EF_graph(maxSR_returns, maxSR_std, maxSR_allocation, minVol_returns, minVol_std, minVol_allocation, efficientList, targetReturns):\n",
    "    # Plotting the maximum sharpe ratio portfolio.\n",
    "    MaxSharpeRatio = go.Scatter(\n",
    "        name='Maximium Sharpe Ratio',\n",
    "        mode='markers',\n",
    "        x=[round(maxSR_std*100,2)],\n",
    "        y=[round(maxSR_returns*100,2)],\n",
    "        marker=dict(color='red',size=14,line=dict(width=3, color='black'))\n",
    "    )\n",
    "    # Plotting the minimum volatility portfolio.\n",
    "    MinVol = go.Scatter(\n",
    "        name='Mininium Volatility',\n",
    "        mode='markers',\n",
    "        x=[round(minVol_std*100,2)],\n",
    "        y=[round(minVol_returns*100,2)],\n",
    "        marker=dict(color='green',size=14,line=dict(width=3, color='black'))\n",
    "    )\n",
    "    \n",
    "    # The frontier made up of the lowest volatility possible at each level of returns between the returns of the lowest volatility porfolio and the maximum sharpe ratio portfolio.\\\n",
    "        \n",
    "    #Efficient Frontier\n",
    "    EF_curve = go.Scatter(\n",
    "        name='Efficient Frontier',\n",
    "        mode='lines',\n",
    "        x=[round(ef_std*100, 2) for ef_std in efficientList],\n",
    "        y=[round(target*100, 2) for target in targetReturns],\n",
    "        line=dict(color='black', width=4, dash='dashdot')\n",
    "    )\n",
    "    data = [MaxSharpeRatio, MinVol, EF_curve]\n",
    "    layout = go.Layout(\n",
    "        title = 'Portfolio Optimisation with the Efficient Frontier',\n",
    "        yaxis = dict(title='Annualised Return (%)'),\n",
    "        xaxis = dict(title='Annualised Volatility (%)'),\n",
    "        showlegend = True,\n",
    "        legend = dict(\n",
    "            x = 0.75, y = 0, traceorder='normal',\n",
    "            bgcolor='#E2E2E2',\n",
    "            bordercolor='black',\n",
    "            borderwidth=2),\n",
    "        width=1000,\n",
    "        height=1000)\n",
    "    \n",
    "    fig = go.Figure(data=data, layout=layout)\n",
    "    return fig.show()"
   ]
  },
  {
   "cell_type": "code",
   "execution_count": 15,
   "metadata": {},
   "outputs": [
    {
     "ename": "TypeError",
     "evalue": "string indices must be integers",
     "output_type": "error",
     "traceback": [
      "\u001b[0;31m---------------------------------------------------------------------------\u001b[0m",
      "\u001b[0;31mTypeError\u001b[0m                                 Traceback (most recent call last)",
      "\u001b[1;32m/Users/sufyansaleem/Modern_Portfolio_Theory_Efficent_frontier/Efficent_Frontier_Calculator.ipynb Cell 14\u001b[0m in \u001b[0;36m<cell line: 13>\u001b[0;34m()\u001b[0m\n\u001b[1;32m     <a href='vscode-notebook-cell:/Users/sufyansaleem/Modern_Portfolio_Theory_Efficent_frontier/Efficent_Frontier_Calculator.ipynb#X16sZmlsZQ%3D%3D?line=9'>10</a>\u001b[0m \u001b[39m# Using the adjusted close to take dividence and splits into account.\u001b[39;00m\n\u001b[1;32m     <a href='vscode-notebook-cell:/Users/sufyansaleem/Modern_Portfolio_Theory_Efficent_frontier/Efficent_Frontier_Calculator.ipynb#X16sZmlsZQ%3D%3D?line=10'>11</a>\u001b[0m datatype \u001b[39m=\u001b[39m \u001b[39m'\u001b[39m\u001b[39mAdj Close\u001b[39m\u001b[39m'\u001b[39m\n\u001b[0;32m---> <a href='vscode-notebook-cell:/Users/sufyansaleem/Modern_Portfolio_Theory_Efficent_frontier/Efficent_Frontier_Calculator.ipynb#X16sZmlsZQ%3D%3D?line=12'>13</a>\u001b[0m data \u001b[39m=\u001b[39m getdata(stocks,datatype,startdate, enddate)\n\u001b[1;32m     <a href='vscode-notebook-cell:/Users/sufyansaleem/Modern_Portfolio_Theory_Efficent_frontier/Efficent_Frontier_Calculator.ipynb#X16sZmlsZQ%3D%3D?line=14'>15</a>\u001b[0m meanreturns \u001b[39m=\u001b[39m meanrets(data)\n\u001b[1;32m     <a href='vscode-notebook-cell:/Users/sufyansaleem/Modern_Portfolio_Theory_Efficent_frontier/Efficent_Frontier_Calculator.ipynb#X16sZmlsZQ%3D%3D?line=15'>16</a>\u001b[0m covariance \u001b[39m=\u001b[39m covar(data)\n",
      "\u001b[1;32m/Users/sufyansaleem/Modern_Portfolio_Theory_Efficent_frontier/Efficent_Frontier_Calculator.ipynb Cell 14\u001b[0m in \u001b[0;36mgetdata\u001b[0;34m(stocks, datatype, startdate, enddate)\u001b[0m\n\u001b[1;32m      <a href='vscode-notebook-cell:/Users/sufyansaleem/Modern_Portfolio_Theory_Efficent_frontier/Efficent_Frontier_Calculator.ipynb#X16sZmlsZQ%3D%3D?line=2'>3</a>\u001b[0m \u001b[39mdef\u001b[39;00m \u001b[39mgetdata\u001b[39m(stocks, datatype, startdate, enddate):\n\u001b[0;32m----> <a href='vscode-notebook-cell:/Users/sufyansaleem/Modern_Portfolio_Theory_Efficent_frontier/Efficent_Frontier_Calculator.ipynb#X16sZmlsZQ%3D%3D?line=3'>4</a>\u001b[0m     yfdata \u001b[39m=\u001b[39m pdr\u001b[39m.\u001b[39;49mget_data_yahoo(stocks,startdate,enddate)\n\u001b[1;32m      <a href='vscode-notebook-cell:/Users/sufyansaleem/Modern_Portfolio_Theory_Efficent_frontier/Efficent_Frontier_Calculator.ipynb#X16sZmlsZQ%3D%3D?line=4'>5</a>\u001b[0m     closedata \u001b[39m=\u001b[39m yfdata[datatype]\n\u001b[1;32m      <a href='vscode-notebook-cell:/Users/sufyansaleem/Modern_Portfolio_Theory_Efficent_frontier/Efficent_Frontier_Calculator.ipynb#X16sZmlsZQ%3D%3D?line=5'>6</a>\u001b[0m     \u001b[39mreturn\u001b[39;00m closedata\n",
      "File \u001b[0;32m/opt/anaconda3/lib/python3.9/site-packages/pandas_datareader/data.py:80\u001b[0m, in \u001b[0;36mget_data_yahoo\u001b[0;34m(*args, **kwargs)\u001b[0m\n\u001b[1;32m     79\u001b[0m \u001b[39mdef\u001b[39;00m \u001b[39mget_data_yahoo\u001b[39m(\u001b[39m*\u001b[39margs, \u001b[39m*\u001b[39m\u001b[39m*\u001b[39mkwargs):\n\u001b[0;32m---> 80\u001b[0m     \u001b[39mreturn\u001b[39;00m YahooDailyReader(\u001b[39m*\u001b[39;49margs, \u001b[39m*\u001b[39;49m\u001b[39m*\u001b[39;49mkwargs)\u001b[39m.\u001b[39;49mread()\n",
      "File \u001b[0;32m/opt/anaconda3/lib/python3.9/site-packages/pandas_datareader/base.py:258\u001b[0m, in \u001b[0;36m_DailyBaseReader.read\u001b[0;34m(self)\u001b[0m\n\u001b[1;32m    256\u001b[0m     df \u001b[39m=\u001b[39m \u001b[39mself\u001b[39m\u001b[39m.\u001b[39m_dl_mult_symbols(\u001b[39mself\u001b[39m\u001b[39m.\u001b[39msymbols\u001b[39m.\u001b[39mindex)\n\u001b[1;32m    257\u001b[0m \u001b[39melse\u001b[39;00m:\n\u001b[0;32m--> 258\u001b[0m     df \u001b[39m=\u001b[39m \u001b[39mself\u001b[39;49m\u001b[39m.\u001b[39;49m_dl_mult_symbols(\u001b[39mself\u001b[39;49m\u001b[39m.\u001b[39;49msymbols)\n\u001b[1;32m    259\u001b[0m \u001b[39mreturn\u001b[39;00m df\n",
      "File \u001b[0;32m/opt/anaconda3/lib/python3.9/site-packages/pandas_datareader/base.py:268\u001b[0m, in \u001b[0;36m_DailyBaseReader._dl_mult_symbols\u001b[0;34m(self, symbols)\u001b[0m\n\u001b[1;32m    266\u001b[0m \u001b[39mfor\u001b[39;00m sym \u001b[39min\u001b[39;00m sym_group:\n\u001b[1;32m    267\u001b[0m     \u001b[39mtry\u001b[39;00m:\n\u001b[0;32m--> 268\u001b[0m         stocks[sym] \u001b[39m=\u001b[39m \u001b[39mself\u001b[39;49m\u001b[39m.\u001b[39;49m_read_one_data(\u001b[39mself\u001b[39;49m\u001b[39m.\u001b[39;49murl, \u001b[39mself\u001b[39;49m\u001b[39m.\u001b[39;49m_get_params(sym))\n\u001b[1;32m    269\u001b[0m         passed\u001b[39m.\u001b[39mappend(sym)\n\u001b[1;32m    270\u001b[0m     \u001b[39mexcept\u001b[39;00m (\u001b[39mIOError\u001b[39;00m, \u001b[39mKeyError\u001b[39;00m):\n",
      "File \u001b[0;32m/opt/anaconda3/lib/python3.9/site-packages/pandas_datareader/yahoo/daily.py:153\u001b[0m, in \u001b[0;36mYahooDailyReader._read_one_data\u001b[0;34m(self, url, params)\u001b[0m\n\u001b[1;32m    151\u001b[0m \u001b[39mtry\u001b[39;00m:\n\u001b[1;32m    152\u001b[0m     j \u001b[39m=\u001b[39m json\u001b[39m.\u001b[39mloads(re\u001b[39m.\u001b[39msearch(ptrn, resp\u001b[39m.\u001b[39mtext, re\u001b[39m.\u001b[39mDOTALL)\u001b[39m.\u001b[39mgroup(\u001b[39m1\u001b[39m))\n\u001b[0;32m--> 153\u001b[0m     data \u001b[39m=\u001b[39m j[\u001b[39m\"\u001b[39;49m\u001b[39mcontext\u001b[39;49m\u001b[39m\"\u001b[39;49m][\u001b[39m\"\u001b[39;49m\u001b[39mdispatcher\u001b[39;49m\u001b[39m\"\u001b[39;49m][\u001b[39m\"\u001b[39;49m\u001b[39mstores\u001b[39;49m\u001b[39m\"\u001b[39;49m][\u001b[39m\"\u001b[39;49m\u001b[39mHistoricalPriceStore\u001b[39;49m\u001b[39m\"\u001b[39;49m]\n\u001b[1;32m    154\u001b[0m \u001b[39mexcept\u001b[39;00m \u001b[39mKeyError\u001b[39;00m:\n\u001b[1;32m    155\u001b[0m     msg \u001b[39m=\u001b[39m \u001b[39m\"\u001b[39m\u001b[39mNo data fetched for symbol \u001b[39m\u001b[39m{}\u001b[39;00m\u001b[39m using \u001b[39m\u001b[39m{}\u001b[39;00m\u001b[39m\"\u001b[39m\n",
      "\u001b[0;31mTypeError\u001b[0m: string indices must be integers"
     ]
    }
   ],
   "source": [
    "# the number of years worth of data to calculate over\n",
    "years = 1\n",
    "# the end date of the trial, by default set to todays date\n",
    "enddate = dt.datetime.now() \n",
    "# the start date of the trial \n",
    "startdate = enddate - dt.timedelta(days = 365*years)\n",
    "# The stocks to be included in the portfolio, leave as tickers for the whole snp500, or add your own list. \n",
    "# The code is set up for a 252 trading days year, it will need to be changed if other assets are included. \n",
    "stocks = tickers\n",
    "# Using the adjusted close to take dividence and splits into account.\n",
    "datatype = 'Adj Close'\n",
    "\n",
    "data = getdata(stocks,datatype,startdate, enddate)\n",
    "\n",
    "meanreturns = meanrets(data)\n",
    "covariance = covar(data)\n",
    "\n",
    "maxsr_returns, maxsr_std, maxsr_allocation, minvol_returns, minvol_std,minvol_allocation, efficentportfolios, targetreturns = calculated_results(meanreturns, covariance, rrr=0.03, bound = (0,1))\n",
    "\n",
    "EF_graph(maxsr_returns, maxsr_std, maxsr_allocation, minvol_returns, minvol_std,minvol_allocation, efficentportfolios, targetreturns)\n"
   ]
  }
 ],
 "metadata": {
  "kernelspec": {
   "display_name": "Python 3.9.12 ('base')",
   "language": "python",
   "name": "python3"
  },
  "language_info": {
   "codemirror_mode": {
    "name": "ipython",
    "version": 3
   },
   "file_extension": ".py",
   "mimetype": "text/x-python",
   "name": "python",
   "nbconvert_exporter": "python",
   "pygments_lexer": "ipython3",
   "version": "3.9.12"
  },
  "orig_nbformat": 4,
  "vscode": {
   "interpreter": {
    "hash": "40d3a090f54c6569ab1632332b64b2c03c39dcf918b08424e98f38b5ae0af88f"
   }
  }
 },
 "nbformat": 4,
 "nbformat_minor": 2
}
